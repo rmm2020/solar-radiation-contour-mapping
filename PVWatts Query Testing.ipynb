{
 "cells": [
  {
   "cell_type": "code",
   "execution_count": 2,
   "metadata": {},
   "outputs": [],
   "source": [
    "import requests\n",
    "import json\n",
    "\n",
    "import config"
   ]
  },
  {
   "cell_type": "code",
   "execution_count": 7,
   "metadata": {},
   "outputs": [
    {
     "name": "stdout",
     "output_type": "stream",
     "text": [
      "{\"inputs\":{\"system_capacity\":\"4\",\"module_type\":\"0\",\"losses\":\"10\",\"array_type\":\"0\",\"tilt\":\"40\",\"azimuth\":\"180\",\"lat\":\"37.77\",\"dataset\":\"tmy3\",\"lon\":\"-122.42\"},\"errors\":[],\"warnings\":[],\"version\":\"1.0.2\",\"ssc_info\":{\"version\":45,\"build\":\"Linux 64 bit GNU/C++ Jul  7 2015 14:24:09\"},\"station_info\":{\"lat\":37.61700057983398,\"lon\":-122.4000015258789,\"elev\":2.0,\"tz\":-8.0,\"location\":\"724940\",\"city\":\"\\\"SAN FRANCISCO INTL AP\\\"\",\"state\":\"CA\",\"solar_resource_file\":\"724940.csv\",\"distance\":17236},\"outputs\":{\"ac_monthly\":[359.3792724609375,436.41357421875,558.1268310546875,583.94091796875,616.0377197265625,619.7947998046875,664.3723754882812,656.8384399414062,638.697021484375,527.1196899414062,398.3379516601562,400.8797607421875],\"poa_monthly\":[104.9797592163086,129.6095428466797,167.6260986328125,175.3225250244141,185.2456665039062,188.2203979492188,201.001220703125,200.1561737060547,194.9465179443359,159.4564971923828,119.6886444091797,118.272331237793],\"solrad_monthly\":[3.386443853378296,4.628912448883057,5.407293319702148,5.8440842628479,5.975666522979736,6.274013042449951,6.48391056060791,6.456650733947754,6.498217105865479,5.143757820129395,3.98962140083313,3.815236568450928],\"dc_monthly\":[375.4503479003906,455.7694091796875,583.2078857421875,610.6851806640625,643.597412109375,647.502197265625,694.0723876953125,686.0459594726562,667.18212890625,550.3256225585938,415.6298522949219,418.7576599121094],\"ac_annual\":6459.939453125,\"solrad_annual\":5.325316905975342,\"capacity_factor\":18.4359016418457}}\n"
     ]
    }
   ],
   "source": [
    "\n",
    "\n",
    "url = \"https://developer.nrel.gov/api/pvwatts/v6.json\"\n",
    "\n",
    "querystring = {\"api_key\":config.api_key,\"system_capacity\":\"4\",\"module_type\":\"0\",\"losses\":\"10\",\"array_type\":\"0\",\"tilt\":\"40\",\"azimuth\":\"180\",\"lat\":\"37.77\",\"dataset\":\"tmy3\",\"lon\":\"-122.42\"}\n",
    "\n",
    "payload = \"-----011000010111000001101001\\r\\nContent-Disposition: form-data; name=\\\"\\\"\\r\\n\\r\\n\\r\\n-----011000010111000001101001--\\r\\n\"\n",
    "headers = {'content-type': 'multipart/form-data; boundary=---011000010111000001101001'}\n",
    "\n",
    "response = requests.request(\"GET\", url, data=payload, headers=headers, params=querystring)\n",
    "\n",
    "print(response.text)"
   ]
  },
  {
   "cell_type": "code",
   "execution_count": 6,
   "metadata": {},
   "outputs": [
    {
     "name": "stdout",
     "output_type": "stream",
     "text": [
      "[3.386443853378296, 4.628912448883057, 5.407293319702148, 5.8440842628479, 5.975666522979736, 6.274013042449951, 6.48391056060791, 6.456650733947754, 6.498217105865479, 5.143757820129395, 3.98962140083313, 3.815236568450928]\n"
     ]
    }
   ],
   "source": [
    "sm = json.loads(response.text)['outputs']['solrad_monthly']\n",
    "print(sm)"
   ]
  },
  {
   "cell_type": "code",
   "execution_count": 5,
   "metadata": {},
   "outputs": [
    {
     "data": {
      "text/plain": [
       "3.386443853378296"
      ]
     },
     "execution_count": 5,
     "metadata": {},
     "output_type": "execute_result"
    }
   ],
   "source": [
    "sm[0]"
   ]
  }
 ],
 "metadata": {
  "kernelspec": {
   "display_name": "Python 3",
   "language": "python",
   "name": "python3"
  },
  "language_info": {
   "codemirror_mode": {
    "name": "ipython",
    "version": 3
   },
   "file_extension": ".py",
   "mimetype": "text/x-python",
   "name": "python",
   "nbconvert_exporter": "python",
   "pygments_lexer": "ipython3",
   "version": "3.7.9"
  }
 },
 "nbformat": 4,
 "nbformat_minor": 2
}
