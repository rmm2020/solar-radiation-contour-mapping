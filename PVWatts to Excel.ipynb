{
 "cells": [
  {
   "cell_type": "markdown",
   "metadata": {},
   "source": [
    "# Pull PVWatts Data into Excel Sheet"
   ]
  },
  {
   "cell_type": "code",
   "execution_count": 1,
   "metadata": {},
   "outputs": [],
   "source": [
    "import requests\n",
    "import json\n",
    "import openpyxl\n",
    "from openpyxl import Workbook\n",
    "from openpyxl.utils import get_column_letter\n",
    "import calendar\n",
    "import datetime\n",
    "from statistics import mean\n",
    "\n",
    "import config"
   ]
  },
  {
   "cell_type": "code",
   "execution_count": 2,
   "metadata": {},
   "outputs": [],
   "source": [
    "#Select address or lon/lat\n",
    "address = \"Honolulu\"\n",
    "lat = 37.77     #Range -90 to 90\n",
    "lon = -122.42     #Rangel -180 to 180\n",
    "\n",
    "#Select true if using lon/lat coordinates or false to use address\n",
    "uselonlat = False\n",
    "\n",
    "#Tilt angle (Range 0-90, 0 = horizontal, 90 = vertical, 20 = typical tracking array)\n",
    "#tilt = 0\n",
    "tiltvals = [0,20,45,90]\n",
    "\n",
    "#Azimuth (Range 0-360, 0=N, 45=NE, 90=E, 135=SE, 180=S, 225=SW, 270=W, 315=NW)\n",
    "#azimuth = 180\n",
    "azimuthvals = [0,45,90,135,180,225,270,315]\n",
    "# azimuthvals = [0,90,180,270]\n",
    "\n",
    "#Name of file locatin to save data\n",
    "fname = \"pvwattsdata.xlsx\""
   ]
  },
  {
   "cell_type": "code",
   "execution_count": 3,
   "metadata": {},
   "outputs": [],
   "source": [
    "def azimuthtitle(a):\n",
    "    switcher = {\n",
    "        0:'N',\n",
    "        45:'NE', \n",
    "        90:'E', \n",
    "        135:'SE', \n",
    "        180:'S', \n",
    "        225:'SW', \n",
    "        270:'W', \n",
    "        315:'NW' \n",
    "    }\n",
    "    return switcher.get(a,a)"
   ]
  },
  {
   "cell_type": "code",
   "execution_count": 4,
   "metadata": {},
   "outputs": [],
   "source": [
    "##########Set up workbook to write data into\n",
    "wb = Workbook()\n",
    "ws = wb.active\n",
    "ws.title = \"PVWatts\"\n",
    "rshift = 18 #number of rows to shift data for new location"
   ]
  },
  {
   "cell_type": "code",
   "execution_count": 5,
   "metadata": {},
   "outputs": [],
   "source": [
    "#loop through tilts\n",
    "for i in range(len(tiltvals)):\n",
    "    \n",
    "    tilt = tiltvals[i]\n",
    "    \n",
    "    ws.cell(7+i*rshift,1).value = f\"Tilt {tilt}\\N{DEGREE SIGN}\" \n",
    "    ws.cell(8+i*rshift,2).value = \"kWh/m2/day\"\n",
    "    for m in range(12):\n",
    "        ws.cell(9+i*rshift+m,2).value = calendar.month_name[m+1]\n",
    "    ws.cell(21+i*rshift,2).value = \"Average\"\n",
    "    ws.cell(22+i*rshift,2).value = \"-\"\n",
    "    ws.cell(23+i*rshift,2).value = \"+\"\n",
    "    \n",
    "    #loop through angles\n",
    "    for j in range(len(azimuthvals)):\n",
    "        azimuth = azimuthvals[j]\n",
    "        az = azimuthtitle(azimuth)\n",
    "        ws.cell(8+i*rshift,3+j).value = az\n",
    "    \n",
    "        ##########Query PVWatts to get solar data\n",
    "        url = \"https://developer.nrel.gov/api/pvwatts/v6.json\"\n",
    "        payload = \"-----011000010111000001101001\\r\\nContent-Disposition: form-data; name=\\\"\\\"\\r\\n\\r\\n\\r\\n-----011000010111000001101001--\\r\\n\"\n",
    "        headers = {'content-type': 'multipart/form-data; boundary=---011000010111000001101001'}\n",
    "        if uselonlat == True:\n",
    "            querystring = {\"api_key\":config.api_key,\"system_capacity\":\"4\",\n",
    "                           \"module_type\":\"0\",\"losses\":\"10\",\"array_type\":\"0\",\"tilt\":tilt,\"azimuth\":azimuth,\n",
    "                           \"lat\":lat,\"dataset\":\"tmy3\",\"lon\":lon}\n",
    "        else:\n",
    "            querystring = {\"api_key\":config.api_key,\"system_capacity\":\"4\",\n",
    "                           \"module_type\":\"0\",\"losses\":\"10\",\"array_type\":\"0\",\"tilt\":tilt,\"azimuth\":azimuth,\n",
    "                           \"address\":address,\"dataset\":\"tmy3\"}\n",
    "        response = requests.request(\"GET\", url, data=payload, headers=headers, params=querystring)\n",
    "\n",
    "        ###########Solar data and used data parsing from output of query\n",
    "        #print(response.text)\n",
    "        sm = json.loads(response.text)['outputs']['solrad_monthly']\n",
    "        #print(sm)\n",
    "        for m in range(12):\n",
    "            ws.cell(9+i*rshift+m,3+j).value = round(sm[m],2) \n",
    "        ws.cell(21+i*rshift,3+j).value = round(mean(sm),2) \n",
    "        ws.cell(22+i*rshift,3+j).value = round(mean(sm)-min(sm),2)\n",
    "        ws.cell(23+i*rshift,3+j).value = round(max(sm)-mean(sm),2)  \n",
    "    \n",
    "        if tilt == 0:\n",
    "            ws.cell(8+i*rshift,3+j).value = \"Horizontal\"\n",
    "            break\n"
   ]
  },
  {
   "cell_type": "code",
   "execution_count": 6,
   "metadata": {},
   "outputs": [],
   "source": [
    "#parse out the latitude, longitude, and city location used for analysis\n",
    "used_lat = json.loads(response.text)['station_info']['lat']\n",
    "used_lon = json.loads(response.text)['station_info']['lon']\n",
    "if uselonlat == False:\n",
    "    used_address = address\n",
    "else:\n",
    "    used_address = json.loads(response.text)['station_info']['city'] + \", \" + \\\n",
    "                json.loads(response.text)['station_info']['state']\n",
    "\n",
    "#format the \n",
    "ws.cell(row=3,column=1).value = f\"Location: {used_address}\"\n",
    "ws.cell(row=4,column=1).value = f\"Latitude: {used_lat:.2f}\"\n",
    "ws.cell(row=5,column=1).value = f\"Longitude: {used_lon:.2f}\"\n",
    "\n",
    "ws.column_dimensions[\"A\"].width = 30\n",
    "ws.column_dimensions[\"B\"].width = 12\n",
    "ws.column_dimensions[\"C\"].width = 6\n",
    "    \n",
    "wb.save(fname)"
   ]
  },
  {
   "cell_type": "code",
   "execution_count": null,
   "metadata": {},
   "outputs": [],
   "source": [
    "\n",
    "    "
   ]
  },
  {
   "cell_type": "code",
   "execution_count": null,
   "metadata": {},
   "outputs": [],
   "source": []
  }
 ],
 "metadata": {
  "kernelspec": {
   "display_name": "Python 3",
   "language": "python",
   "name": "python3"
  },
  "language_info": {
   "codemirror_mode": {
    "name": "ipython",
    "version": 3
   },
   "file_extension": ".py",
   "mimetype": "text/x-python",
   "name": "python",
   "nbconvert_exporter": "python",
   "pygments_lexer": "ipython3",
   "version": "3.7.9"
  }
 },
 "nbformat": 4,
 "nbformat_minor": 4
}
